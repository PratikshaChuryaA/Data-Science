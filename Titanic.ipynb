{
 "cells": [
  {
   "cell_type": "code",
   "execution_count": 7,
   "id": "dba7bc8b",
   "metadata": {},
   "outputs": [
    {
     "name": "stdout",
     "output_type": "stream",
     "text": [
      "Accuracy: 1.0\n",
      "Classification Report:\n",
      "              precision    recall  f1-score   support\n",
      "\n",
      "           0       1.00      1.00      1.00        50\n",
      "           1       1.00      1.00      1.00        34\n",
      "\n",
      "    accuracy                           1.00        84\n",
      "   macro avg       1.00      1.00      1.00        84\n",
      "weighted avg       1.00      1.00      1.00        84\n",
      "\n",
      "Confusion Matrix:\n",
      "[[50  0]\n",
      " [ 0 34]]\n",
      "Predicted Survival: [0]\n"
     ]
    }
   ],
   "source": [
    "import pandas as pd\n",
    "import numpy as np\n",
    "from sklearn.model_selection import train_test_split\n",
    "from sklearn.preprocessing import LabelEncoder\n",
    "from sklearn.ensemble import RandomForestClassifier\n",
    "from sklearn.metrics import accuracy_score, classification_report, confusion_matrix\n",
    "\n",
    "# Load the dataset\n",
    "titanic_df = pd.read_csv(\"D:\\\\tested.csv\")\n",
    "# Handle missing values\n",
    "titanic_df[\"Age\"].fillna(titanic_df[\"Age\"].median(), inplace=True)\n",
    "titanic_df[\"Embarked\"].fillna(titanic_df[\"Embarked\"].mode()[0], inplace=True)\n",
    "\n",
    "# Encode categorical variables\n",
    "label_encoder = LabelEncoder()\n",
    "titanic_df[\"Sex\"] = label_encoder.fit_transform(titanic_df[\"Sex\"])\n",
    "titanic_df[\"Embarked\"] = label_encoder.fit_transform(titanic_df[\"Embarked\"])\n",
    "X = titanic_df[[\"Pclass\", \"Sex\", \"Age\", \"SibSp\", \"Parch\", \"Embarked\"]]\n",
    "y = titanic_df[\"Survived\"]\n",
    "X_train, X_test, y_train, y_test = train_test_split(X, y, test_size=0.2, random_state=42)\n",
    "model = RandomForestClassifier(n_estimators=100, random_state=42)\n",
    "model.fit(X_train, y_train)\n",
    "y_pred = model.predict(X_test)\n",
    "accuracy = accuracy_score(y_test, y_pred)\n",
    "print(\"Accuracy:\", accuracy)\n",
    "\n",
    "print(\"Classification Report:\")\n",
    "print(classification_report(y_test, y_pred))\n",
    "\n",
    "print(\"Confusion Matrix:\")\n",
    "print(confusion_matrix(y_test, y_pred))\n",
    "# Example: Let's predict survival for a passenger with the following characteristics:\n",
    "# Pclass=3, Sex=male, Age=25, SibSp=1, Parch=0, Embarked=C (C = Cherbourg)\n",
    "new_data = pd.DataFrame([[3, 1, 25, 1, 0, 1]], columns=[\"Pclass\", \"Sex\", \"Age\", \"SibSp\", \"Parch\", \"Embarked\"])\n",
    "predicted_survival = model.predict(new_data)\n",
    "print(\"Predicted Survival:\", predicted_survival)"
   ]
  },
  {
   "cell_type": "code",
   "execution_count": null,
   "id": "bb0091e2",
   "metadata": {},
   "outputs": [],
   "source": []
  }
 ],
 "metadata": {
  "kernelspec": {
   "display_name": "Python 3 (ipykernel)",
   "language": "python",
   "name": "python3"
  },
  "language_info": {
   "codemirror_mode": {
    "name": "ipython",
    "version": 3
   },
   "file_extension": ".py",
   "mimetype": "text/x-python",
   "name": "python",
   "nbconvert_exporter": "python",
   "pygments_lexer": "ipython3",
   "version": "3.11.1"
  }
 },
 "nbformat": 4,
 "nbformat_minor": 5
}
